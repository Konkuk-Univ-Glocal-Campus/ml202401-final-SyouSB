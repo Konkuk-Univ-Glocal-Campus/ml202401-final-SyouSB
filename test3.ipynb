{
 "cells": [
  {
   "cell_type": "code",
   "execution_count": 1,
   "metadata": {},
   "outputs": [],
   "source": [
    "import pandas as pd\n",
    "import time\n",
    "import ast # ast 모듈은 Python 코드 구문 트리를 파싱하고 분석하는데 사용"
   ]
  },
  {
   "cell_type": "code",
   "execution_count": 2,
   "metadata": {},
   "outputs": [],
   "source": [
    "# Load the hotel reviews from CSV\n",
    "start = time.time()\n",
    "df = pd.read_csv('./wine_review.csv')"
   ]
  },
  {
   "cell_type": "code",
   "execution_count": 3,
   "metadata": {},
   "outputs": [
    {
     "name": "stdout",
     "output_type": "stream",
     "text": [
      "<class 'pandas.core.frame.DataFrame'>\n",
      "RangeIndex: 2890 entries, 0 to 2889\n",
      "Data columns (total 32 columns):\n",
      " #   Column                Non-Null Count  Dtype  \n",
      "---  ------                --------------  -----  \n",
      " 0   id                    2890 non-null   object \n",
      " 1   asins                 870 non-null    object \n",
      " 2   brand                 2825 non-null   object \n",
      " 3   categories            2890 non-null   object \n",
      " 4   dateAdded             2890 non-null   object \n",
      " 5   dateUpdated           2890 non-null   object \n",
      " 6   descriptions          2738 non-null   object \n",
      " 7   dimension             1838 non-null   object \n",
      " 8   ean                   2166 non-null   object \n",
      " 9   flavors               151 non-null    object \n",
      " 10  keys                  2890 non-null   object \n",
      " 11  manufacturer          849 non-null    object \n",
      " 12  manufacturerNumber    2457 non-null   object \n",
      " 13  name                  2890 non-null   object \n",
      " 14  reviews.date          2552 non-null   object \n",
      " 15  reviews.dateAdded     2890 non-null   object \n",
      " 16  reviews.dateSeen      2890 non-null   object \n",
      " 17  reviews.didPurchase   2049 non-null   object \n",
      " 18  reviews.doRecommend   1911 non-null   object \n",
      " 19  reviews.id            1885 non-null   float64\n",
      " 20  reviews.numHelpful    626 non-null    float64\n",
      " 21  reviews.rating        2445 non-null   float64\n",
      " 22  reviews.sourceURLs    2890 non-null   object \n",
      " 23  reviews.text          2889 non-null   object \n",
      " 24  reviews.title         2846 non-null   object \n",
      " 25  reviews.userCity      82 non-null     object \n",
      " 26  reviews.userProvince  9 non-null      object \n",
      " 27  reviews.username      2888 non-null   object \n",
      " 28  sizes                 22 non-null     object \n",
      " 29  sourceURLs            2890 non-null   object \n",
      " 30  upc                   2743 non-null   object \n",
      " 31  weight                996 non-null    object \n",
      "dtypes: float64(3), object(29)\n",
      "memory usage: 722.6+ KB\n"
     ]
    }
   ],
   "source": [
    "# 데이터 구조 확인\n",
    "df.info()"
   ]
  },
  {
   "cell_type": "markdown",
   "metadata": {},
   "source": [
    "1. 로드한 데이터 프레임의 모양을 프린트 (모양은 행과 열의 수)"
   ]
  },
  {
   "cell_type": "code",
   "execution_count": 4,
   "metadata": {},
   "outputs": [
    {
     "name": "stdout",
     "output_type": "stream",
     "text": [
      "The shape of the data (rows, cols) is (2890, 32)\n"
     ]
    }
   ],
   "source": [
    "# Print out the shape of the loaded data frame (the shape is the number of rows and columns)\n",
    "print(\"The shape of the data (rows, cols) is \" + str(df.shape))"
   ]
  },
  {
   "cell_type": "markdown",
   "metadata": {},
   "source": [
    "2. 검토자 국적의 빈도 수를 계산:\n",
    "- 검토자_국적 열에 고유한 값이 몇 개 있으며 그 값은 무엇인가?\n",
    "- 데이터 집합(인쇄 국가 및 리뷰 수)에서 가장 일반적인 리뷰어 국적은 무엇인가?\n",
    "- 다음으로 가장 자주 발견되는 상위 10개 국적은 무엇이며 그 빈도 수는 얼마인가?"
   ]
  },
  {
   "cell_type": "code",
   "execution_count": 5,
   "metadata": {},
   "outputs": [
    {
     "name": "stdout",
     "output_type": "stream",
     "text": [
      "There are 193 different nationalities\n",
      "brand\n",
      "Carmex             1045\n",
      "Master of Mixes     138\n",
      "Jim Beam            133\n",
      "Bittermens          128\n",
      "Great Value         114\n",
      "                   ... \n",
      "Coco Real             1\n",
      "Carlo Rossi           1\n",
      "BELLA BOLLE           1\n",
      "Crown Royal           1\n",
      "Mr. Brown             1\n",
      "Name: count, Length: 193, dtype: int64\n"
     ]
    }
   ],
   "source": [
    "# Calculate the frequency count for reviewer nationalities\n",
    "# How many distinct values are there for the column Reviewer_Nationality and what are they?\n",
    "# What reviewer nationality is the most common in the dataset (print country and number of reviews)?\n",
    "nationality_freq = df[\"brand\"].value_counts()\n",
    "print(\"There are \" + str(nationality_freq.size) + \" different nationalities\")\n",
    "# print first and last rows of the Series. Change to nationality_freq.to_string() to print all of the data\n",
    "print(nationality_freq) "
   ]
  },
  {
   "cell_type": "code",
   "execution_count": 6,
   "metadata": {},
   "outputs": [
    {
     "name": "stdout",
     "output_type": "stream",
     "text": [
      "The highest frequency reviewer nationality is Carmex with 1045 reviews.\n",
      "The next 10 highest frequency reviewer nationalities are:\n",
      "brand\n",
      "Master of Mixes         138\n",
      "Jim Beam                133\n",
      "Bittermens              128\n",
      "Great Value             114\n",
      "Zing Zang                84\n",
      "Vintage Wine Estates     82\n",
      "Mott's                   65\n",
      "Cocktail Artist          64\n",
      "Mr. & Mrs. T             50\n",
      "Dirty Sue                48\n"
     ]
    },
    {
     "name": "stderr",
     "output_type": "stream",
     "text": [
      "/tmp/ipykernel_31633/1459016938.py:3: FutureWarning: Series.__getitem__ treating keys as positions is deprecated. In a future version, integer keys will always be treated as labels (consistent with DataFrame behavior). To access a value by position, use `ser.iloc[pos]`\n",
      "  print(\"The highest frequency reviewer nationality is \" + str(nationality_freq.index[0]).strip() + \" with \" + str(nationality_freq[0]) + \" reviews.\")\n"
     ]
    }
   ],
   "source": [
    "# What are the next top 10 most frequently found nationalities, and their frequency count?\n",
    "\n",
    "print(\"The highest frequency reviewer nationality is \" + str(nationality_freq.index[0]).strip() + \" with \" + str(nationality_freq[0]) + \" reviews.\")\n",
    "\n",
    "# Notice there is a leading space on the values, strip() removes that for printing\n",
    "# What is the top 10 most common nationalities and their frequencies?\n",
    "\n",
    "print(\"The next 10 highest frequency reviewer nationalities are:\")\n",
    "print(nationality_freq[1:11].to_string())"
   ]
  },
  {
   "cell_type": "markdown",
   "metadata": {},
   "source": [
    "3. 리뷰가 가장 많이 작성된 상위 10개 국적별로 가장 자주 리뷰가 작성된 호텔은 어디인가?"
   ]
  },
  {
   "cell_type": "code",
   "execution_count": 7,
   "metadata": {},
   "outputs": [
    {
     "name": "stdout",
     "output_type": "stream",
     "text": [
      "The most reviewed hotel for Carmex was Carmex Lip Balm Original Jar - 12 PK, 12. with 1045 reviews.\n",
      "The most reviewed hotel for Master of Mixes was Master of Mixes Big Bucket Premium Margarita Mixer, 96 fl oz with 41 reviews.\n",
      "The most reviewed hotel for Jim Beam was Jim Beam174 Bourbon Whiskey - 1.75l Bottle with 23 reviews.\n",
      "The most reviewed hotel for Bittermens was Bittermens Xocolatl Mole Cocktail Bitters - 5 oz with 128 reviews.\n",
      "The most reviewed hotel for Great Value was Great Value Original Crescent Rolls, 8 oz with 57 reviews.\n",
      "The most reviewed hotel for Zing Zang was Zing Zang Bloody Mary Mix, 32 fl oz with 84 reviews.\n",
      "The most reviewed hotel for Vintage Wine Estates was Vintage Wine Estates Kevin O'Leary's Select Reserve 12 Bottle Set with 14 reviews.\n",
      "The most reviewed hotel for Mott's was Clamato Original Tomato Cocktail - 64 Fl Oz Bottle with 65 reviews.\n",
      "The most reviewed hotel for Cocktail Artist was Cocktail Artist Essential Bar Ingredients Premium Manhattan Mix, 25.3 fl oz with 33 reviews.\n",
      "The most reviewed hotel for Mr. & Mrs. T was Mr _ Mrs T Bold _ Spicy Bloody Mary Mix, 1.75 L with 25 reviews.\n"
     ]
    },
    {
     "name": "stderr",
     "output_type": "stream",
     "text": [
      "/tmp/ipykernel_31633/1725730834.py:7: FutureWarning: Series.__getitem__ treating keys as positions is deprecated. In a future version, integer keys will always be treated as labels (consistent with DataFrame behavior). To access a value by position, use `ser.iloc[pos]`\n",
      "  print(\"The most reviewed hotel for \" + str(nat).strip() + \" was \" + str(freq.index[0]) + \" with \" + str(freq[0]) + \" reviews.\")\n",
      "/tmp/ipykernel_31633/1725730834.py:7: FutureWarning: Series.__getitem__ treating keys as positions is deprecated. In a future version, integer keys will always be treated as labels (consistent with DataFrame behavior). To access a value by position, use `ser.iloc[pos]`\n",
      "  print(\"The most reviewed hotel for \" + str(nat).strip() + \" was \" + str(freq.index[0]) + \" with \" + str(freq[0]) + \" reviews.\")\n",
      "/tmp/ipykernel_31633/1725730834.py:7: FutureWarning: Series.__getitem__ treating keys as positions is deprecated. In a future version, integer keys will always be treated as labels (consistent with DataFrame behavior). To access a value by position, use `ser.iloc[pos]`\n",
      "  print(\"The most reviewed hotel for \" + str(nat).strip() + \" was \" + str(freq.index[0]) + \" with \" + str(freq[0]) + \" reviews.\")\n",
      "/tmp/ipykernel_31633/1725730834.py:7: FutureWarning: Series.__getitem__ treating keys as positions is deprecated. In a future version, integer keys will always be treated as labels (consistent with DataFrame behavior). To access a value by position, use `ser.iloc[pos]`\n",
      "  print(\"The most reviewed hotel for \" + str(nat).strip() + \" was \" + str(freq.index[0]) + \" with \" + str(freq[0]) + \" reviews.\")\n",
      "/tmp/ipykernel_31633/1725730834.py:7: FutureWarning: Series.__getitem__ treating keys as positions is deprecated. In a future version, integer keys will always be treated as labels (consistent with DataFrame behavior). To access a value by position, use `ser.iloc[pos]`\n",
      "  print(\"The most reviewed hotel for \" + str(nat).strip() + \" was \" + str(freq.index[0]) + \" with \" + str(freq[0]) + \" reviews.\")\n",
      "/tmp/ipykernel_31633/1725730834.py:7: FutureWarning: Series.__getitem__ treating keys as positions is deprecated. In a future version, integer keys will always be treated as labels (consistent with DataFrame behavior). To access a value by position, use `ser.iloc[pos]`\n",
      "  print(\"The most reviewed hotel for \" + str(nat).strip() + \" was \" + str(freq.index[0]) + \" with \" + str(freq[0]) + \" reviews.\")\n",
      "/tmp/ipykernel_31633/1725730834.py:7: FutureWarning: Series.__getitem__ treating keys as positions is deprecated. In a future version, integer keys will always be treated as labels (consistent with DataFrame behavior). To access a value by position, use `ser.iloc[pos]`\n",
      "  print(\"The most reviewed hotel for \" + str(nat).strip() + \" was \" + str(freq.index[0]) + \" with \" + str(freq[0]) + \" reviews.\")\n",
      "/tmp/ipykernel_31633/1725730834.py:7: FutureWarning: Series.__getitem__ treating keys as positions is deprecated. In a future version, integer keys will always be treated as labels (consistent with DataFrame behavior). To access a value by position, use `ser.iloc[pos]`\n",
      "  print(\"The most reviewed hotel for \" + str(nat).strip() + \" was \" + str(freq.index[0]) + \" with \" + str(freq[0]) + \" reviews.\")\n",
      "/tmp/ipykernel_31633/1725730834.py:7: FutureWarning: Series.__getitem__ treating keys as positions is deprecated. In a future version, integer keys will always be treated as labels (consistent with DataFrame behavior). To access a value by position, use `ser.iloc[pos]`\n",
      "  print(\"The most reviewed hotel for \" + str(nat).strip() + \" was \" + str(freq.index[0]) + \" with \" + str(freq[0]) + \" reviews.\")\n",
      "/tmp/ipykernel_31633/1725730834.py:7: FutureWarning: Series.__getitem__ treating keys as positions is deprecated. In a future version, integer keys will always be treated as labels (consistent with DataFrame behavior). To access a value by position, use `ser.iloc[pos]`\n",
      "  print(\"The most reviewed hotel for \" + str(nat).strip() + \" was \" + str(freq.index[0]) + \" with \" + str(freq[0]) + \" reviews.\")\n"
     ]
    }
   ],
   "source": [
    "# What was the most frequently reviewed hotel for the top 10 nationalities\n",
    "for nat in nationality_freq[:10].index:\n",
    "   # First, extract all the rows that match the criteria into a new dataframe\n",
    "   nat_df = df[df[\"brand\"] == nat]   \n",
    "   # Now get the hotel freq\n",
    "   freq = nat_df[\"name\"].value_counts()\n",
    "   print(\"The most reviewed hotel for \" + str(nat).strip() + \" was \" + str(freq.index[0]) + \" with \" + str(freq[0]) + \" reviews.\") "
   ]
  },
  {
   "cell_type": "markdown",
   "metadata": {},
   "source": [
    "4. 데이터 세트에서 호텔당 리뷰 수(호텔의 빈도 수)는 몇 개인가?"
   ]
  },
  {
   "cell_type": "code",
   "execution_count": 9,
   "metadata": {},
   "outputs": [
    {
     "ename": "KeyError",
     "evalue": "\"['Total_Number_of_Reviews'] not in index\"",
     "output_type": "error",
     "traceback": [
      "\u001b[0;31m---------------------------------------------------------------------------\u001b[0m",
      "\u001b[0;31mKeyError\u001b[0m                                  Traceback (most recent call last)",
      "Cell \u001b[0;32mIn[9], line 5\u001b[0m\n\u001b[1;32m      1\u001b[0m \u001b[38;5;66;03m# How many reviews are there per hotel (frequency count of hotel) in the dataset?\u001b[39;00m\n\u001b[1;32m      2\u001b[0m \n\u001b[1;32m      3\u001b[0m \u001b[38;5;66;03m# First create a new dataframe based on the old one, removing the uneeded columns\u001b[39;00m\n\u001b[1;32m      4\u001b[0m \u001b[38;5;66;03m# hotel_freq_df = df.drop([\"id\", \"asins\", \"Review_Date\", \"Average_Score\", \"Reviewer_Nationality\", \"Negative_Review\", \"Review_Total_Negative_Word_Counts\", \"Positive_Review\", \"Review_Total_Positive_Word_Counts\", \"Total_Number_of_Reviews_Reviewer_Has_Given\", \"Reviewer_Score\", \"Tags\", \"days_since_review\", \"lat\", \"lng\"], axis = 1)\u001b[39;00m\n\u001b[0;32m----> 5\u001b[0m hotel_freq_df \u001b[38;5;241m=\u001b[39m \u001b[43mdf\u001b[49m\u001b[43m[\u001b[49m\u001b[43m[\u001b[49m\u001b[38;5;124;43m\"\u001b[39;49m\u001b[38;5;124;43mname\u001b[39;49m\u001b[38;5;124;43m\"\u001b[39;49m\u001b[43m,\u001b[49m\u001b[43m \u001b[49m\u001b[38;5;124;43m\"\u001b[39;49m\u001b[38;5;124;43mbrand\u001b[39;49m\u001b[38;5;124;43m\"\u001b[39;49m\u001b[43m,\u001b[49m\u001b[43m \u001b[49m\u001b[38;5;124;43m\"\u001b[39;49m\u001b[38;5;124;43mTotal_Number_of_Reviews\u001b[39;49m\u001b[38;5;124;43m\"\u001b[39;49m\u001b[43m]\u001b[49m\u001b[43m]\u001b[49m\n\u001b[1;32m      7\u001b[0m hotel_freq_df\u001b[38;5;241m.\u001b[39minfo()\n\u001b[1;32m      9\u001b[0m \u001b[38;5;66;03m# Group the rows by Hotel_Name, count them and put the result in a new column Total_Reviews_Found\u001b[39;00m\n",
      "File \u001b[0;32m~/.local/lib/python3.10/site-packages/pandas/core/frame.py:4108\u001b[0m, in \u001b[0;36mDataFrame.__getitem__\u001b[0;34m(self, key)\u001b[0m\n\u001b[1;32m   4106\u001b[0m     \u001b[38;5;28;01mif\u001b[39;00m is_iterator(key):\n\u001b[1;32m   4107\u001b[0m         key \u001b[38;5;241m=\u001b[39m \u001b[38;5;28mlist\u001b[39m(key)\n\u001b[0;32m-> 4108\u001b[0m     indexer \u001b[38;5;241m=\u001b[39m \u001b[38;5;28;43mself\u001b[39;49m\u001b[38;5;241;43m.\u001b[39;49m\u001b[43mcolumns\u001b[49m\u001b[38;5;241;43m.\u001b[39;49m\u001b[43m_get_indexer_strict\u001b[49m\u001b[43m(\u001b[49m\u001b[43mkey\u001b[49m\u001b[43m,\u001b[49m\u001b[43m \u001b[49m\u001b[38;5;124;43m\"\u001b[39;49m\u001b[38;5;124;43mcolumns\u001b[39;49m\u001b[38;5;124;43m\"\u001b[39;49m\u001b[43m)\u001b[49m[\u001b[38;5;241m1\u001b[39m]\n\u001b[1;32m   4110\u001b[0m \u001b[38;5;66;03m# take() does not accept boolean indexers\u001b[39;00m\n\u001b[1;32m   4111\u001b[0m \u001b[38;5;28;01mif\u001b[39;00m \u001b[38;5;28mgetattr\u001b[39m(indexer, \u001b[38;5;124m\"\u001b[39m\u001b[38;5;124mdtype\u001b[39m\u001b[38;5;124m\"\u001b[39m, \u001b[38;5;28;01mNone\u001b[39;00m) \u001b[38;5;241m==\u001b[39m \u001b[38;5;28mbool\u001b[39m:\n",
      "File \u001b[0;32m~/.local/lib/python3.10/site-packages/pandas/core/indexes/base.py:6200\u001b[0m, in \u001b[0;36mIndex._get_indexer_strict\u001b[0;34m(self, key, axis_name)\u001b[0m\n\u001b[1;32m   6197\u001b[0m \u001b[38;5;28;01melse\u001b[39;00m:\n\u001b[1;32m   6198\u001b[0m     keyarr, indexer, new_indexer \u001b[38;5;241m=\u001b[39m \u001b[38;5;28mself\u001b[39m\u001b[38;5;241m.\u001b[39m_reindex_non_unique(keyarr)\n\u001b[0;32m-> 6200\u001b[0m \u001b[38;5;28;43mself\u001b[39;49m\u001b[38;5;241;43m.\u001b[39;49m\u001b[43m_raise_if_missing\u001b[49m\u001b[43m(\u001b[49m\u001b[43mkeyarr\u001b[49m\u001b[43m,\u001b[49m\u001b[43m \u001b[49m\u001b[43mindexer\u001b[49m\u001b[43m,\u001b[49m\u001b[43m \u001b[49m\u001b[43maxis_name\u001b[49m\u001b[43m)\u001b[49m\n\u001b[1;32m   6202\u001b[0m keyarr \u001b[38;5;241m=\u001b[39m \u001b[38;5;28mself\u001b[39m\u001b[38;5;241m.\u001b[39mtake(indexer)\n\u001b[1;32m   6203\u001b[0m \u001b[38;5;28;01mif\u001b[39;00m \u001b[38;5;28misinstance\u001b[39m(key, Index):\n\u001b[1;32m   6204\u001b[0m     \u001b[38;5;66;03m# GH 42790 - Preserve name from an Index\u001b[39;00m\n",
      "File \u001b[0;32m~/.local/lib/python3.10/site-packages/pandas/core/indexes/base.py:6252\u001b[0m, in \u001b[0;36mIndex._raise_if_missing\u001b[0;34m(self, key, indexer, axis_name)\u001b[0m\n\u001b[1;32m   6249\u001b[0m     \u001b[38;5;28;01mraise\u001b[39;00m \u001b[38;5;167;01mKeyError\u001b[39;00m(\u001b[38;5;124mf\u001b[39m\u001b[38;5;124m\"\u001b[39m\u001b[38;5;124mNone of [\u001b[39m\u001b[38;5;132;01m{\u001b[39;00mkey\u001b[38;5;132;01m}\u001b[39;00m\u001b[38;5;124m] are in the [\u001b[39m\u001b[38;5;132;01m{\u001b[39;00maxis_name\u001b[38;5;132;01m}\u001b[39;00m\u001b[38;5;124m]\u001b[39m\u001b[38;5;124m\"\u001b[39m)\n\u001b[1;32m   6251\u001b[0m not_found \u001b[38;5;241m=\u001b[39m \u001b[38;5;28mlist\u001b[39m(ensure_index(key)[missing_mask\u001b[38;5;241m.\u001b[39mnonzero()[\u001b[38;5;241m0\u001b[39m]]\u001b[38;5;241m.\u001b[39munique())\n\u001b[0;32m-> 6252\u001b[0m \u001b[38;5;28;01mraise\u001b[39;00m \u001b[38;5;167;01mKeyError\u001b[39;00m(\u001b[38;5;124mf\u001b[39m\u001b[38;5;124m\"\u001b[39m\u001b[38;5;132;01m{\u001b[39;00mnot_found\u001b[38;5;132;01m}\u001b[39;00m\u001b[38;5;124m not in index\u001b[39m\u001b[38;5;124m\"\u001b[39m)\n",
      "\u001b[0;31mKeyError\u001b[0m: \"['Total_Number_of_Reviews'] not in index\""
     ]
    }
   ],
   "source": [
    "# How many reviews are there per hotel (frequency count of hotel) in the dataset?\n",
    "\n",
    "# First create a new dataframe based on the old one, removing the uneeded columns\n",
    "# hotel_freq_df = df.drop([\"id\", \"asins\", \"Review_Date\", \"Average_Score\", \"Reviewer_Nationality\", \"Negative_Review\", \"Review_Total_Negative_Word_Counts\", \"Positive_Review\", \"Review_Total_Positive_Word_Counts\", \"Total_Number_of_Reviews_Reviewer_Has_Given\", \"Reviewer_Score\", \"Tags\", \"days_since_review\", \"lat\", \"lng\"], axis = 1)\n",
    "hotel_freq_df = df[[\"name\", \"brand\", \"Total_Number_of_Reviews\"]]\n",
    "\n",
    "hotel_freq_df.info()\n",
    "\n",
    "# Group the rows by Hotel_Name, count them and put the result in a new column Total_Reviews_Found\n",
    "hotel_freq_df['Total_Reviews_Found'] = hotel_freq_df.groupby('name').transform('count')\n",
    "\n",
    "# Get rid of all the duplicated rows\n",
    "hotel_freq_df = hotel_freq_df.drop_duplicates(subset = [\"name\"])\n",
    "display(hotel_freq_df) \n"
   ]
  },
  {
   "cell_type": "code",
   "execution_count": null,
   "metadata": {},
   "outputs": [],
   "source": []
  },
  {
   "cell_type": "code",
   "execution_count": 8,
   "metadata": {},
   "outputs": [],
   "source": [
    "# dropping columns we will not use:\n",
    "# df.drop([\"id\", \"asins\", \"dataAdded\", \"de\", \"\", \"\", \"\", \"\", ], axis = 1, inplace=True)\n",
    "\n",
    "df = df[[\"categories\", \"name\", \"reviews.rating\", \"reviews.text\", \"reviews.title\"]]"
   ]
  },
  {
   "cell_type": "code",
   "execution_count": 11,
   "metadata": {},
   "outputs": [
    {
     "name": "stdout",
     "output_type": "stream",
     "text": [
      "<class 'pandas.core.frame.DataFrame'>\n",
      "RangeIndex: 2890 entries, 0 to 2889\n",
      "Data columns (total 5 columns):\n",
      " #   Column          Non-Null Count  Dtype  \n",
      "---  ------          --------------  -----  \n",
      " 0   categories      2890 non-null   object \n",
      " 1   name            2890 non-null   object \n",
      " 2   reviews.rating  2445 non-null   float64\n",
      " 3   reviews.text    2889 non-null   object \n",
      " 4   reviews.title   2846 non-null   object \n",
      "dtypes: float64(1), object(4)\n",
      "memory usage: 113.0+ KB\n"
     ]
    },
    {
     "data": {
      "text/html": [
       "<div>\n",
       "<style scoped>\n",
       "    .dataframe tbody tr th:only-of-type {\n",
       "        vertical-align: middle;\n",
       "    }\n",
       "\n",
       "    .dataframe tbody tr th {\n",
       "        vertical-align: top;\n",
       "    }\n",
       "\n",
       "    .dataframe thead th {\n",
       "        text-align: right;\n",
       "    }\n",
       "</style>\n",
       "<table border=\"1\" class=\"dataframe\">\n",
       "  <thead>\n",
       "    <tr style=\"text-align: right;\">\n",
       "      <th></th>\n",
       "      <th>categories</th>\n",
       "      <th>name</th>\n",
       "      <th>reviews.rating</th>\n",
       "      <th>reviews.text</th>\n",
       "      <th>reviews.title</th>\n",
       "    </tr>\n",
       "  </thead>\n",
       "  <tbody>\n",
       "    <tr>\n",
       "      <th>0</th>\n",
       "      <td>Food &amp; Beverage,Beverages,Wine, Beer &amp; Liquor,...</td>\n",
       "      <td>Ecco Domani174 Pinot Grigio - 750ml Bottle</td>\n",
       "      <td>5.0</td>\n",
       "      <td>This a fantastic white wine for any occasion!</td>\n",
       "      <td>My Favorite White Wine</td>\n",
       "    </tr>\n",
       "    <tr>\n",
       "      <th>1</th>\n",
       "      <td>Food &amp; Beverage,Beverages,Wine, Beer &amp; Liquor,...</td>\n",
       "      <td>Fresh Craft174 Mango Citrus - 4pk / 250ml Bottle</td>\n",
       "      <td>5.0</td>\n",
       "      <td>Tart, not sweet...very refreshing and delicious!</td>\n",
       "      <td>Yum!!</td>\n",
       "    </tr>\n",
       "    <tr>\n",
       "      <th>2</th>\n",
       "      <td>Food &amp; Beverage,Beverages,Wine, Beer &amp; Liquor,...</td>\n",
       "      <td>1000 Stories174 Zinfandel - 750ml Bottle</td>\n",
       "      <td>5.0</td>\n",
       "      <td>I was given this wine so it was a delightful s...</td>\n",
       "      <td>A New Favorite!</td>\n",
       "    </tr>\n",
       "    <tr>\n",
       "      <th>3</th>\n",
       "      <td>Food &amp; Beverage,Beverages,Wine, Beer &amp; Liquor,...</td>\n",
       "      <td>1000 Stories174 Zinfandel - 750ml Bottle</td>\n",
       "      <td>5.0</td>\n",
       "      <td>This is a phenomenal wine and my new favorite ...</td>\n",
       "      <td>Bold, Flavorful, Aromatic, Delicious</td>\n",
       "    </tr>\n",
       "    <tr>\n",
       "      <th>4</th>\n",
       "      <td>Food &amp; Beverage,Beverages,Wine, Beer &amp; Liquor,...</td>\n",
       "      <td>Pink Moscato - 3l Bottle - Wine Cube153</td>\n",
       "      <td>5.0</td>\n",
       "      <td>4 750ml bottles for the price of two With way ...</td>\n",
       "      <td>Yum! Plus, Environmentally Friendly!</td>\n",
       "    </tr>\n",
       "  </tbody>\n",
       "</table>\n",
       "</div>"
      ],
      "text/plain": [
       "                                          categories  \\\n",
       "0  Food & Beverage,Beverages,Wine, Beer & Liquor,...   \n",
       "1  Food & Beverage,Beverages,Wine, Beer & Liquor,...   \n",
       "2  Food & Beverage,Beverages,Wine, Beer & Liquor,...   \n",
       "3  Food & Beverage,Beverages,Wine, Beer & Liquor,...   \n",
       "4  Food & Beverage,Beverages,Wine, Beer & Liquor,...   \n",
       "\n",
       "                                               name  reviews.rating  \\\n",
       "0        Ecco Domani174 Pinot Grigio - 750ml Bottle             5.0   \n",
       "1  Fresh Craft174 Mango Citrus - 4pk / 250ml Bottle             5.0   \n",
       "2          1000 Stories174 Zinfandel - 750ml Bottle             5.0   \n",
       "3          1000 Stories174 Zinfandel - 750ml Bottle             5.0   \n",
       "4           Pink Moscato - 3l Bottle - Wine Cube153             5.0   \n",
       "\n",
       "                                        reviews.text  \\\n",
       "0      This a fantastic white wine for any occasion!   \n",
       "1   Tart, not sweet...very refreshing and delicious!   \n",
       "2  I was given this wine so it was a delightful s...   \n",
       "3  This is a phenomenal wine and my new favorite ...   \n",
       "4  4 750ml bottles for the price of two With way ...   \n",
       "\n",
       "                          reviews.title  \n",
       "0                My Favorite White Wine  \n",
       "1                                 Yum!!  \n",
       "2                       A New Favorite!  \n",
       "3  Bold, Flavorful, Aromatic, Delicious  \n",
       "4  Yum! Plus, Environmentally Friendly!  "
      ]
     },
     "execution_count": 11,
     "metadata": {},
     "output_type": "execute_result"
    }
   ],
   "source": [
    "df.info()\n",
    "df.head()"
   ]
  },
  {
   "cell_type": "code",
   "execution_count": 12,
   "metadata": {},
   "outputs": [],
   "source": [
    "# 대괄호와 따옴표를 제거\n",
    "\n",
    "# remove opening and closing brackets)\n",
    "df.categories = df.categories.str.strip(\"[']\")\n",
    "# remove all quotes too\n",
    "df.categories = df.categories.str.replace(\" ', '\", \",\", regex = False)"
   ]
  },
  {
   "cell_type": "code",
   "execution_count": 13,
   "metadata": {},
   "outputs": [
    {
     "name": "stdout",
     "output_type": "stream",
     "text": [
      "0       Food & Beverage,Beverages,Wine, Beer & Liquor,...\n",
      "1       Food & Beverage,Beverages,Wine, Beer & Liquor,...\n",
      "2       Food & Beverage,Beverages,Wine, Beer & Liquor,...\n",
      "3       Food & Beverage,Beverages,Wine, Beer & Liquor,...\n",
      "4       Food & Beverage,Beverages,Wine, Beer & Liquor,...\n",
      "                              ...                        \n",
      "2885             Wine Shop,Kitchen and Food,View All Food\n",
      "2886             Wine Shop,Kitchen and Food,View All Food\n",
      "2887             Wine Shop,Kitchen and Food,View All Food\n",
      "2888             Wine Shop,Kitchen and Food,View All Food\n",
      "2889             Wine Shop,Kitchen and Food,View All Food\n",
      "Name: categories, Length: 2890, dtype: object\n"
     ]
    }
   ],
   "source": [
    "print (df[\"categories\"])"
   ]
  },
  {
   "cell_type": "code",
   "execution_count": 15,
   "metadata": {},
   "outputs": [],
   "source": [
    "# Now split the strings into a list\n",
    "tag_list_df = df.categories.str.split(',', expand = True)"
   ]
  },
  {
   "cell_type": "code",
   "execution_count": 16,
   "metadata": {},
   "outputs": [],
   "source": [
    "# Remove leading and trailing spaces\n",
    "df[\"Tag_1\"] = tag_list_df[0].str.strip()\n",
    "df[\"Tag_2\"] = tag_list_df[1].str.strip()\n",
    "df[\"Tag_3\"] = tag_list_df[2].str.strip()\n",
    "df[\"Tag_4\"] = tag_list_df[3].str.strip()\n",
    "df[\"Tag_5\"] = tag_list_df[4].str.strip()\n",
    "df[\"Tag_6\"] = tag_list_df[5].str.strip()"
   ]
  },
  {
   "cell_type": "code",
   "execution_count": 17,
   "metadata": {},
   "outputs": [],
   "source": [
    "# Merge the 6 columns into one with melt\n",
    "df_tags = df.melt(value_vars=[\"Tag_1\", \"Tag_2\", \"Tag_3\", \"Tag_4\", \"Tag_5\", \"Tag_6\"])"
   ]
  },
  {
   "cell_type": "code",
   "execution_count": 26,
   "metadata": {},
   "outputs": [
    {
     "name": "stdout",
     "output_type": "stream",
     "text": [
      "The shape of the tags with no filtering: (5796, 2)\n",
      "             value  count\n",
      "0   Wine & Spirits   2277\n",
      "1  Cocktail Mixers    622\n",
      "2             Wine    601\n",
      "3          Spirits    414\n",
      "4   Meal Solutions     77\n",
      "5           Drinks     65\n",
      "6    Juice & Cider     65\n",
      "7   Cocktail Mixes     62\n",
      "8   Party Supplies     57\n"
     ]
    }
   ],
   "source": [
    "# Submitted from a mobile device됨과 같은 일반적인 태그 중 일부는 쓸모가 없으므로 제거\n",
    "# length of stay 태그 제거\n",
    "# 객실, 스위트, 스튜디오, 아파트 등 매우 다양한 종류의 숙소가 있지만 거의 같은 의미이며 목표와 관련이 없으므로 고려 대상에서 제외\n",
    "\n",
    "# Get the value counts\n",
    "tag_vc = df_tags.value.value_counts()\n",
    "# print(tag_vc)\n",
    "print(\"The shape of the tags with no filtering:\", str(df_tags.shape))\n",
    "# Drop rooms, suites, and length of stay, mobile device and anything with less count than a 1000\n",
    "df_tags = df_tags[~df_tags.value.str.contains(\"Beer|Beverages|Food|Wholesale Lots|Grocery|Wine Shop\", na=False, case=False)]\n",
    "tag_vc = df_tags.value.value_counts().reset_index(name=\"count\").query(\"count > 50\")\n",
    "# Print the top 10 (there should only be 9 and we'll use these in the filtering section)\n",
    "print(tag_vc[:10])"
   ]
  },
  {
   "cell_type": "code",
   "execution_count": 29,
   "metadata": {},
   "outputs": [],
   "source": [
    "# 마지막 단계는 이러한 각 태그에 관한 새 필드를 만드는 것\n",
    "# 다음 모든 리뷰 레코드에서 태그 필드가 새 필드 중 하나와 일치하면 1을 추가하고, 일치하지 않으면 0을 추가\n",
    "# 최종 결과는 비즈니스와 레저, 반려동물 동반 등의 이유로 이 호텔을 선택한 리뷰어의 수(총합)\n",
    "# 이는 호텔을 추천할 때 유용한 정보로 활용할 수 있음\n",
    "\n",
    "# Process the Tags into new columns\n",
    "# The file Hotel_Reviews_Tags.py, identifies the most important tags\n",
    "# Leisure trip, Couple, Solo traveler, Business trip, Group combined with Travelers with friends, \n",
    "# Family with young children, Family with older children, With a pet\n",
    "df[\"Wine & Spirits\"] = df.categories.apply(lambda tag: 1 if \"Wine & Spirits\" in tag else 0)\n",
    "df[\"Cocktail Mixers\"] = df.categories.apply(lambda tag: 1 if \"Cocktail Mixers\" in tag else 0)\n",
    "df[\"Wine\"] = df.categories.apply(lambda tag: 1 if \"Wine\" in tag else 0)\n",
    "df[\"Spirits\"] = df.categories.apply(lambda tag: 1 if \"Spirits\" in tag else 0)\n",
    "df[\"Meal Solutions\"] = df.categories.apply(lambda tag: 1 if \"Meal Solutions\" in tag or \"Travelers with friends\" in tag else 0)\n",
    "df[\"Drinks\"] = df.categories.apply(lambda tag: 1 if \"Drinks\" in tag else 0)\n",
    "df[\"Juice & Cider\"] = df.categories.apply(lambda tag: 1 if \"Juice & Cider\" in tag else 0)\n",
    "df[\"Cocktail Mixes\"] = df.categories.apply(lambda tag: 1 if \"Cocktail Mixes\" in tag else 0)"
   ]
  },
  {
   "cell_type": "code",
   "execution_count": 30,
   "metadata": {},
   "outputs": [
    {
     "name": "stdout",
     "output_type": "stream",
     "text": [
      "Saving results to Hotel_Reviews_Filtered.csv\n",
      "Filtering took 1358.41 seconds\n"
     ]
    }
   ],
   "source": [
    "# Saving new data file with calculated columns\n",
    "print(\"Saving results to Hotel_Reviews_Filtered.csv\")\n",
    "df.to_csv(r'./Hotel_Reviews_Filtered.csv', index = False)\n",
    "end = time.time()\n",
    "print(\"Filtering took \" + str(round(end - start, 2)) + \" seconds\")"
   ]
  },
  {
   "cell_type": "code",
   "execution_count": 31,
   "metadata": {},
   "outputs": [
    {
     "name": "stdout",
     "output_type": "stream",
     "text": [
      "Requirement already satisfied: nltk in /usr/local/python/3.10.13/lib/python3.10/site-packages (3.8.1)\n",
      "Requirement already satisfied: click in /usr/local/python/3.10.13/lib/python3.10/site-packages (from nltk) (8.1.7)\n",
      "Requirement already satisfied: joblib in /home/codespace/.local/lib/python3.10/site-packages (from nltk) (1.4.2)\n",
      "Requirement already satisfied: regex>=2021.8.3 in /usr/local/python/3.10.13/lib/python3.10/site-packages (from nltk) (2024.5.15)\n",
      "Requirement already satisfied: tqdm in /usr/local/python/3.10.13/lib/python3.10/site-packages (from nltk) (4.66.4)\n",
      "Note: you may need to restart the kernel to use updated packages.\n"
     ]
    },
    {
     "name": "stderr",
     "output_type": "stream",
     "text": [
      "[nltk_data] Downloading package vader_lexicon to\n",
      "[nltk_data]     /home/codespace/nltk_data...\n"
     ]
    }
   ],
   "source": [
    "%pip install nltk\n",
    "import time\n",
    "import pandas as pd\n",
    "import nltk as nltk\n",
    "from nltk.corpus import stopwords\n",
    "from nltk.sentiment.vader import SentimentIntensityAnalyzer # nltk의 VADER 감정 분석기를 가져옮\n",
    "nltk.download('vader_lexicon') # VADER 감정 분석기에 필요한 어휘 자료를 다운로드\n",
    "\n",
    "# Load the filtered hotel reviews from CSV\n",
    "df = pd.read_csv('./Hotel_Reviews_Filtered.csv')"
   ]
  },
  {
   "cell_type": "code",
   "execution_count": 32,
   "metadata": {},
   "outputs": [
    {
     "name": "stderr",
     "output_type": "stream",
     "text": [
      "[nltk_data] Downloading package stopwords to\n",
      "[nltk_data]     /home/codespace/nltk_data...\n",
      "[nltk_data]   Package stopwords is already up-to-date!\n"
     ]
    },
    {
     "ename": "AttributeError",
     "evalue": "'DataFrame' object has no attribute 'Negative_Review'",
     "output_type": "error",
     "traceback": [
      "\u001b[0;31m---------------------------------------------------------------------------\u001b[0m",
      "\u001b[0;31mAttributeError\u001b[0m                            Traceback (most recent call last)",
      "\u001b[0;32m/tmp/ipykernel_12948/3134735317.py\u001b[0m in \u001b[0;36m?\u001b[0;34m()\u001b[0m\n\u001b[1;32m      9\u001b[0m     \u001b[0mtext\u001b[0m \u001b[0;34m=\u001b[0m \u001b[0;34m\" \"\u001b[0m\u001b[0;34m.\u001b[0m\u001b[0mjoin\u001b[0m\u001b[0;34m(\u001b[0m\u001b[0;34m[\u001b[0m\u001b[0mword\u001b[0m \u001b[0;32mfor\u001b[0m \u001b[0mword\u001b[0m \u001b[0;32min\u001b[0m \u001b[0mreview\u001b[0m\u001b[0;34m.\u001b[0m\u001b[0msplit\u001b[0m\u001b[0;34m(\u001b[0m\u001b[0;34m)\u001b[0m \u001b[0;32mif\u001b[0m \u001b[0mword\u001b[0m \u001b[0;32mnot\u001b[0m \u001b[0;32min\u001b[0m \u001b[0mcache\u001b[0m\u001b[0;34m]\u001b[0m\u001b[0;34m)\u001b[0m\u001b[0;34m\u001b[0m\u001b[0;34m\u001b[0m\u001b[0m\n\u001b[1;32m     10\u001b[0m     \u001b[0;32mreturn\u001b[0m \u001b[0mtext\u001b[0m\u001b[0;34m\u001b[0m\u001b[0;34m\u001b[0m\u001b[0m\n\u001b[1;32m     11\u001b[0m \u001b[0;34m\u001b[0m\u001b[0m\n\u001b[1;32m     12\u001b[0m \u001b[0;31m# Remove the stop words from both columns\u001b[0m\u001b[0;34m\u001b[0m\u001b[0;34m\u001b[0m\u001b[0m\n\u001b[0;32m---> 13\u001b[0;31m \u001b[0mdf\u001b[0m\u001b[0;34m.\u001b[0m\u001b[0mNegative_Review\u001b[0m \u001b[0;34m=\u001b[0m \u001b[0mdf\u001b[0m\u001b[0;34m.\u001b[0m\u001b[0mNegative_Review\u001b[0m\u001b[0;34m.\u001b[0m\u001b[0mapply\u001b[0m\u001b[0;34m(\u001b[0m\u001b[0mremove_stopwords\u001b[0m\u001b[0;34m)\u001b[0m\u001b[0;34m\u001b[0m\u001b[0;34m\u001b[0m\u001b[0m\n\u001b[0m\u001b[1;32m     14\u001b[0m \u001b[0mdf\u001b[0m\u001b[0;34m.\u001b[0m\u001b[0mPositive_Review\u001b[0m \u001b[0;34m=\u001b[0m \u001b[0mdf\u001b[0m\u001b[0;34m.\u001b[0m\u001b[0mPositive_Review\u001b[0m\u001b[0;34m.\u001b[0m\u001b[0mapply\u001b[0m\u001b[0;34m(\u001b[0m\u001b[0mremove_stopwords\u001b[0m\u001b[0;34m)\u001b[0m\u001b[0;34m\u001b[0m\u001b[0;34m\u001b[0m\u001b[0m\n",
      "\u001b[0;32m~/.local/lib/python3.10/site-packages/pandas/core/generic.py\u001b[0m in \u001b[0;36m?\u001b[0;34m(self, name)\u001b[0m\n\u001b[1;32m   6295\u001b[0m             \u001b[0;32mand\u001b[0m \u001b[0mname\u001b[0m \u001b[0;32mnot\u001b[0m \u001b[0;32min\u001b[0m \u001b[0mself\u001b[0m\u001b[0;34m.\u001b[0m\u001b[0m_accessors\u001b[0m\u001b[0;34m\u001b[0m\u001b[0;34m\u001b[0m\u001b[0m\n\u001b[1;32m   6296\u001b[0m             \u001b[0;32mand\u001b[0m \u001b[0mself\u001b[0m\u001b[0;34m.\u001b[0m\u001b[0m_info_axis\u001b[0m\u001b[0;34m.\u001b[0m\u001b[0m_can_hold_identifiers_and_holds_name\u001b[0m\u001b[0;34m(\u001b[0m\u001b[0mname\u001b[0m\u001b[0;34m)\u001b[0m\u001b[0;34m\u001b[0m\u001b[0;34m\u001b[0m\u001b[0m\n\u001b[1;32m   6297\u001b[0m         ):\n\u001b[1;32m   6298\u001b[0m             \u001b[0;32mreturn\u001b[0m \u001b[0mself\u001b[0m\u001b[0;34m[\u001b[0m\u001b[0mname\u001b[0m\u001b[0;34m]\u001b[0m\u001b[0;34m\u001b[0m\u001b[0;34m\u001b[0m\u001b[0m\n\u001b[0;32m-> 6299\u001b[0;31m         \u001b[0;32mreturn\u001b[0m \u001b[0mobject\u001b[0m\u001b[0;34m.\u001b[0m\u001b[0m__getattribute__\u001b[0m\u001b[0;34m(\u001b[0m\u001b[0mself\u001b[0m\u001b[0;34m,\u001b[0m \u001b[0mname\u001b[0m\u001b[0;34m)\u001b[0m\u001b[0;34m\u001b[0m\u001b[0;34m\u001b[0m\u001b[0m\n\u001b[0m",
      "\u001b[0;31mAttributeError\u001b[0m: 'DataFrame' object has no attribute 'Negative_Review'"
     ]
    }
   ],
   "source": [
    "nltk.download('stopwords')\n",
    "\n",
    "# Remove stop words - can be slow for a lot of text!\n",
    "# Ryan Han (ryanxjhan on Kaggle) has a great post measuring performance of different stop words removal approaches\n",
    "# https://www.kaggle.com/ryanxjhan/fast-stop-words-removal # using the approach that Ryan recommends\n",
    "start = time.time()\n",
    "cache = set(stopwords.words(\"english\"))\n",
    "def remove_stopwords(review):\n",
    "    text = \" \".join([word for word in review.split() if word not in cache])\n",
    "    return text\n",
    "\n",
    "# Remove the stop words from both columns\n",
    "df.Negative_Review = df.Negative_Review.apply(remove_stopwords)   \n",
    "df.Positive_Review = df.Positive_Review.apply(remove_stopwords)"
   ]
  },
  {
   "cell_type": "code",
   "execution_count": null,
   "metadata": {},
   "outputs": [],
   "source": []
  }
 ],
 "metadata": {
  "kernelspec": {
   "display_name": "Python 3",
   "language": "python",
   "name": "python3"
  },
  "language_info": {
   "codemirror_mode": {
    "name": "ipython",
    "version": 3
   },
   "file_extension": ".py",
   "mimetype": "text/x-python",
   "name": "python",
   "nbconvert_exporter": "python",
   "pygments_lexer": "ipython3",
   "version": "3.10.13"
  }
 },
 "nbformat": 4,
 "nbformat_minor": 2
}
